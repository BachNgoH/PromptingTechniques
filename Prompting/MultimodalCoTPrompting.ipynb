{
  "cells": [
    {
      "cell_type": "markdown",
      "metadata": {
        "id": "3NK2Z7fn1u9J"
      },
      "source": [
        "# **Set up**"
      ]
    },
    {
      "cell_type": "code",
      "execution_count": 1,
      "metadata": {
        "colab": {
          "base_uri": "https://localhost:8080/"
        },
        "id": "HLuICuWprtiL",
        "outputId": "88269aad-495c-4df9-d707-92fb057f6763"
      },
      "outputs": [
        {
          "name": "stdout",
          "output_type": "stream",
          "text": [
            "\u001b[2K     \u001b[90m━━━━━━━━━━━━━━━━━━━━━━━━━━━━━━━━━━━━━━━━\u001b[0m \u001b[32m262.9/262.9 kB\u001b[0m \u001b[31m3.5 MB/s\u001b[0m eta \u001b[36m0:00:00\u001b[0m\n",
            "\u001b[2K     \u001b[90m━━━━━━━━━━━━━━━━━━━━━━━━━━━━━━━━━━━━━━━━\u001b[0m \u001b[32m75.6/75.6 kB\u001b[0m \u001b[31m5.9 MB/s\u001b[0m eta \u001b[36m0:00:00\u001b[0m\n",
            "\u001b[2K     \u001b[90m━━━━━━━━━━━━━━━━━━━━━━━━━━━━━━━━━━━━━━━━\u001b[0m \u001b[32m77.9/77.9 kB\u001b[0m \u001b[31m5.5 MB/s\u001b[0m eta \u001b[36m0:00:00\u001b[0m\n",
            "\u001b[2K     \u001b[90m━━━━━━━━━━━━━━━━━━━━━━━━━━━━━━━━━━━━━━━━\u001b[0m \u001b[32m58.3/58.3 kB\u001b[0m \u001b[31m6.1 MB/s\u001b[0m eta \u001b[36m0:00:00\u001b[0m\n",
            "\u001b[?25h"
          ]
        }
      ],
      "source": [
        "!pip install -q openai"
      ]
    },
    {
      "cell_type": "code",
      "execution_count": 6,
      "metadata": {
        "id": "wfQnva3L9lKs"
      },
      "outputs": [],
      "source": [
        "from IPython.display import Image"
      ]
    },
    {
      "cell_type": "code",
      "execution_count": 2,
      "metadata": {
        "id": "hKX_kgj910ot"
      },
      "outputs": [],
      "source": [
        "from openai import OpenAI\n",
        "\n",
        "client = OpenAI(\n",
        "  api_key='YOUR_API_KEY',\n",
        ")"
      ]
    },
    {
      "cell_type": "code",
      "execution_count": 3,
      "metadata": {
        "id": "6XCQYElZ1SrR"
      },
      "outputs": [],
      "source": [
        "def get_vision_response(prompt, img_url, max_tokens=200):\n",
        "    response = client.chat.completions.create(\n",
        "    model=\"gpt-4-vision-preview\",\n",
        "    messages=[\n",
        "        {\n",
        "          \"role\": \"user\",\n",
        "          \"content\": [\n",
        "            {\"type\": \"text\", \"text\": prompt},\n",
        "            {\n",
        "              \"type\": \"image_url\",\n",
        "              \"image_url\": {\n",
        "                \"url\": img_url,\n",
        "              },\n",
        "            },\n",
        "          ],\n",
        "        }\n",
        "      ]\n",
        "    )\n",
        "\n",
        "    return response.choices[0].message.content"
      ]
    },
    {
      "cell_type": "code",
      "execution_count": 27,
      "metadata": {
        "id": "KTs59c0s9u3J"
      },
      "outputs": [],
      "source": [
        "vision_prompt_template = '''\n",
        "Dựa vào hình ảnh sau hãy nêu các lí do để hỗ trợ cho câu trả lời chứ không trả lời câu hỏi\n",
        "\n",
        "{}\n",
        "'''"
      ]
    },
    {
      "cell_type": "code",
      "execution_count": 33,
      "metadata": {
        "id": "6L-yL_ZWBDlv"
      },
      "outputs": [],
      "source": [
        "answer_template = '''Dựa vào lí do sau để trả lời câu hỏi tương ứng\n",
        "\n",
        "{question}\n",
        "\n",
        "{rationale}\n",
        "'''"
      ]
    },
    {
      "cell_type": "markdown",
      "metadata": {
        "id": "eXtgiHyNtSIi"
      },
      "source": [
        "# **Prompting**"
      ]
    },
    {
      "cell_type": "markdown",
      "metadata": {
        "id": "PWSkSEnBCIN3"
      },
      "source": [
        "## **Example 1**"
      ]
    },
    {
      "cell_type": "code",
      "execution_count": 7,
      "metadata": {
        "colab": {
          "base_uri": "https://localhost:8080/",
          "height": 678
        },
        "id": "4Nuys7X09SWy",
        "outputId": "34c20608-535f-4796-fa11-f5dfc7b461bf"
      },
      "outputs": [
        {
          "data": {
            "text/html": [
              "<img src=\"https://github.com/dauvannam321/images/blob/main/mmCoT1.png?raw=true\"/>"
            ],
            "text/plain": [
              "<IPython.core.display.Image object>"
            ]
          },
          "execution_count": 7,
          "metadata": {},
          "output_type": "execute_result"
        }
      ],
      "source": [
        "img_url = 'https://github.com/dauvannam321/images/blob/main/mmCoT1.png?raw=true'\n",
        "\n",
        "Image(url=img_url)"
      ]
    },
    {
      "cell_type": "code",
      "execution_count": 19,
      "metadata": {
        "id": "uMp4ZRYg8aok"
      },
      "outputs": [],
      "source": [
        "text = '''\n",
        "Câu hỏi: Hai nam châm này hút hay đẩy nhau?\n",
        "\n",
        "Ngữ cảnh: Hai nam châm được đặt như hình đã cho.\n",
        "\n",
        "Các lựa chọn: (A) đẩy  (B) hút\n",
        "'''"
      ]
    },
    {
      "cell_type": "markdown",
      "metadata": {
        "id": "gEtXf9ex0bnq"
      },
      "source": [
        "**Rationale Generation**"
      ]
    },
    {
      "cell_type": "code",
      "execution_count": 28,
      "metadata": {
        "colab": {
          "base_uri": "https://localhost:8080/",
          "height": 53
        },
        "id": "LNP3H0_1_s7V",
        "outputId": "d40b9519-fcae-4e9c-d9ea-a902d67e2752"
      },
      "outputs": [
        {
          "data": {
            "application/vnd.google.colaboratory.intrinsic+json": {
              "type": "string"
            },
            "text/plain": [
              "'\\nDựa vào hình ảnh sau hãy nêu các lí do để hỗ trợ cho câu trả lời chứ không trả lời câu hỏi\\n\\n\\nCâu hỏi: Hai nam châm này hút hay đẩy nhau?\\n\\nNgữ cảnh: Hai nam châm được đặt như hình đã cho.\\n\\nCác lựa chọn: (A) đẩy  (B) hút\\n\\n'"
            ]
          },
          "execution_count": 28,
          "metadata": {},
          "output_type": "execute_result"
        }
      ],
      "source": [
        "prompt = vision_prompt_template.format(text)\n",
        "prompt"
      ]
    },
    {
      "cell_type": "code",
      "execution_count": 32,
      "metadata": {
        "colab": {
          "base_uri": "https://localhost:8080/",
          "height": 70
        },
        "id": "fmlefrXu-B6s",
        "outputId": "e9ad2a87-9256-42cb-c199-09a0e191e8f0"
      },
      "outputs": [
        {
          "data": {
            "application/vnd.google.colaboratory.intrinsic+json": {
              "type": "string"
            },
            "text/plain": [
              "'Trong hình ảnh được cung cấp, hai nam châm hình kim cương đều có cực được đánh dấu: một nam châm có cực Bắc (N) ở trên và cực Nam (S) ở dưới, trong khi nam châm kia có cực Nam (S) ở trên và cực Bắc (N) ở dưới. Dựa trên nguyên tắc cơ bản của nam châm - cực giống nhau đẩy nhau và cực trái nhau thu hút nhau - ta có thể xác định được phản ứng tương tác giữa hai nam châm này. Các cực giống nhau (N đối diện với N và S đối diện với S) khi đặt gần nhau sẽ gây ra lực đẩy.'"
            ]
          },
          "execution_count": 32,
          "metadata": {},
          "output_type": "execute_result"
        }
      ],
      "source": [
        "rationale = get_vision_response(prompt, img_url)\n",
        "rationale"
      ]
    },
    {
      "cell_type": "markdown",
      "metadata": {
        "id": "BoYoGE-0A8x5"
      },
      "source": [
        "**Answer Inference**"
      ]
    },
    {
      "cell_type": "code",
      "execution_count": 35,
      "metadata": {
        "colab": {
          "base_uri": "https://localhost:8080/",
          "height": 87
        },
        "id": "01oEUeV90kka",
        "outputId": "e4ca7879-c49c-445e-d2cc-9b12a21bebf5"
      },
      "outputs": [
        {
          "data": {
            "application/vnd.google.colaboratory.intrinsic+json": {
              "type": "string"
            },
            "text/plain": [
              "'Dựa vào lí do sau để trả lời câu hỏi tương ứng \\n\\n\\nCâu hỏi: Hai nam châm này hút hay đẩy nhau?\\n\\nNgữ cảnh: Hai nam châm được đặt như hình đã cho.\\n\\nCác lựa chọn: (A) đẩy  (B) hút\\n\\n\\nTrong hình ảnh được cung cấp, hai nam châm hình kim cương đều có cực được đánh dấu: một nam châm có cực Bắc (N) ở trên và cực Nam (S) ở dưới, trong khi nam châm kia có cực Nam (S) ở trên và cực Bắc (N) ở dưới. Dựa trên nguyên tắc cơ bản của nam châm - cực giống nhau đẩy nhau và cực trái nhau thu hút nhau - ta có thể xác định được phản ứng tương tác giữa hai nam châm này. Các cực giống nhau (N đối diện với N và S đối diện với S) khi đặt gần nhau sẽ gây ra lực đẩy.\\n'"
            ]
          },
          "execution_count": 35,
          "metadata": {},
          "output_type": "execute_result"
        }
      ],
      "source": [
        "prompt = answer_template.format(question=text, rationale=rationale)\n",
        "prompt"
      ]
    },
    {
      "cell_type": "code",
      "execution_count": 36,
      "metadata": {
        "colab": {
          "base_uri": "https://localhost:8080/",
          "height": 35
        },
        "id": "1L27TLxYBuNu",
        "outputId": "762a95aa-c2f2-492a-b272-1e8c7d5480ba"
      },
      "outputs": [
        {
          "data": {
            "application/vnd.google.colaboratory.intrinsic+json": {
              "type": "string"
            },
            "text/plain": [
              "'Hai nam châm này sẽ đẩy lẫn nhau vì cực giống nhau đối diện nhau (Bắc với Bắc và Nam với Nam). Vì vậy, câu trả lời đúng là (A) đẩy.'"
            ]
          },
          "execution_count": 36,
          "metadata": {},
          "output_type": "execute_result"
        }
      ],
      "source": [
        "answer = get_vision_response(prompt, img_url)\n",
        "answer"
      ]
    },
    {
      "cell_type": "markdown",
      "metadata": {
        "id": "-XxY1W5DCM_n"
      },
      "source": [
        "## **Example 2**"
      ]
    },
    {
      "cell_type": "code",
      "execution_count": 37,
      "metadata": {
        "colab": {
          "base_uri": "https://localhost:8080/",
          "height": 223
        },
        "id": "wv4aBcvOCM_p",
        "outputId": "d88ab113-cc99-4a4e-a13f-339e343b18b5"
      },
      "outputs": [
        {
          "data": {
            "text/html": [
              "<img src=\"https://github.com/dauvannam321/images/blob/main/mmCoT2.png?raw=true\"/>"
            ],
            "text/plain": [
              "<IPython.core.display.Image object>"
            ]
          },
          "execution_count": 37,
          "metadata": {},
          "output_type": "execute_result"
        }
      ],
      "source": [
        "img_url = 'https://github.com/dauvannam321/images/blob/main/mmCoT2.png?raw=true'\n",
        "\n",
        "Image(url=img_url)"
      ]
    },
    {
      "cell_type": "code",
      "execution_count": 38,
      "metadata": {
        "id": "4ycErUa7CM_s"
      },
      "outputs": [],
      "source": [
        "text = '''\n",
        "Câu hỏi: Động vật nào sau đây cũng dùng chân để săn mồi?\n",
        "\n",
        "Ngữ cảnh: Chim đại bàng ăn cá, động vật có vú và các loài chim khác. Chúng dùng chân để bắt mồi.\n",
        "Hình minh họa: Chim đại bàng\n",
        "\n",
        "Các lựa chọn: (A) Chồn  (B) Diều hâu\n",
        "'''"
      ]
    },
    {
      "cell_type": "markdown",
      "metadata": {
        "id": "QdfeXDBUCM_u"
      },
      "source": [
        "**Rationale Generation**"
      ]
    },
    {
      "cell_type": "code",
      "execution_count": 39,
      "metadata": {
        "colab": {
          "base_uri": "https://localhost:8080/",
          "height": 53
        },
        "id": "C4kVtlk-CM_v",
        "outputId": "3a503efc-563e-4d3b-8ba7-627719c69711"
      },
      "outputs": [
        {
          "data": {
            "application/vnd.google.colaboratory.intrinsic+json": {
              "type": "string"
            },
            "text/plain": [
              "'\\nDựa vào hình ảnh sau hãy nêu các lí do để hỗ trợ cho câu trả lời chứ không trả lời câu hỏi\\n\\n\\nCâu hỏi: Động vật nào sau đây cũng dùng chân để săn mồi?\\n\\nNgữ cảnh: Chim đại bàng ăn cá, động vật có vú và các loài chim khác. Chúng dùng chân để bắt mồi.\\nHình minh họa: Chim đại bàng\\n\\nCác lựa chọn: (A) Chồn  (B) Diều hâu\\n\\n'"
            ]
          },
          "execution_count": 39,
          "metadata": {},
          "output_type": "execute_result"
        }
      ],
      "source": [
        "prompt = vision_prompt_template.format(text)\n",
        "prompt"
      ]
    },
    {
      "cell_type": "code",
      "execution_count": 40,
      "metadata": {
        "colab": {
          "base_uri": "https://localhost:8080/",
          "height": 87
        },
        "id": "mzGuXEGyCM_w",
        "outputId": "9de52e49-29c2-4f0f-bc86-254f900841b5"
      },
      "outputs": [
        {
          "data": {
            "application/vnd.google.colaboratory.intrinsic+json": {
              "type": "string"
            },
            "text/plain": [
              "'Trong hình minh họa, bạn có thể thấy một chim đại bàng với đôi chân có vuốt mạnh mẽ. Đặc điểm này giúp chim đại bàng có khả năng săn mồi hiệu quả, đặc biệt khi bắt cá hoặc động vật nhỏ khác.\\n\\nDiều hâu cũng là một loài chim săn mồi và chúng cũng sử dụng chân với móng vuốt sắc nhọn để bắt và giữ chặt mồi. Điều này cho thấy diều hâu có phương pháp săn mồi tương tự như đại bàng, thông qua việc sử dụng chân để bắt mồi.\\n\\nMặt khác, chồn, một loài động vật có vú, săn mồi bằng cách sử dụng chân của mình một cách khác biệt so với chim đại bàng hoặc diều hâu. Chồn thường dựa vào kỹ năng đào bới, lo lắng và khả năng bất ngờ tấn công mồi nhanh chóng trên mặt đất hơn là sử dụng đôi chân để bắt mồi từ không trung.'"
            ]
          },
          "execution_count": 40,
          "metadata": {},
          "output_type": "execute_result"
        }
      ],
      "source": [
        "rationale = get_vision_response(prompt, img_url)\n",
        "rationale"
      ]
    },
    {
      "cell_type": "markdown",
      "metadata": {
        "id": "LudQXyWcCM_x"
      },
      "source": [
        "**Answer Inference**"
      ]
    },
    {
      "cell_type": "code",
      "execution_count": 41,
      "metadata": {
        "colab": {
          "base_uri": "https://localhost:8080/",
          "height": 122
        },
        "id": "pNVyoQx-CM_y",
        "outputId": "989a73d2-d54e-47eb-e6dc-32e7bda38d22"
      },
      "outputs": [
        {
          "data": {
            "application/vnd.google.colaboratory.intrinsic+json": {
              "type": "string"
            },
            "text/plain": [
              "'Dựa vào lí do sau để trả lời câu hỏi tương ứng \\n\\n\\nCâu hỏi: Động vật nào sau đây cũng dùng chân để săn mồi?\\n\\nNgữ cảnh: Chim đại bàng ăn cá, động vật có vú và các loài chim khác. Chúng dùng chân để bắt mồi.\\nHình minh họa: Chim đại bàng\\n\\nCác lựa chọn: (A) Chồn  (B) Diều hâu\\n\\n\\nTrong hình minh họa, bạn có thể thấy một chim đại bàng với đôi chân có vuốt mạnh mẽ. Đặc điểm này giúp chim đại bàng có khả năng săn mồi hiệu quả, đặc biệt khi bắt cá hoặc động vật nhỏ khác.\\n\\nDiều hâu cũng là một loài chim săn mồi và chúng cũng sử dụng chân với móng vuốt sắc nhọn để bắt và giữ chặt mồi. Điều này cho thấy diều hâu có phương pháp săn mồi tương tự như đại bàng, thông qua việc sử dụng chân để bắt mồi.\\n\\nMặt khác, chồn, một loài động vật có vú, săn mồi bằng cách sử dụng chân của mình một cách khác biệt so với chim đại bàng hoặc diều hâu. Chồn thường dựa vào kỹ năng đào bới, lo lắng và khả năng bất ngờ tấn công mồi nhanh chóng trên mặt đất hơn là sử dụng đôi chân để bắt mồi từ không trung.\\n'"
            ]
          },
          "execution_count": 41,
          "metadata": {},
          "output_type": "execute_result"
        }
      ],
      "source": [
        "prompt = answer_template.format(question=text, rationale=rationale)\n",
        "prompt"
      ]
    },
    {
      "cell_type": "code",
      "execution_count": 42,
      "metadata": {
        "colab": {
          "base_uri": "https://localhost:8080/",
          "height": 35
        },
        "id": "nP_SZqp3CM_y",
        "outputId": "ef0ef562-f1a4-4a7f-8eb8-afcd331d2a9d"
      },
      "outputs": [
        {
          "data": {
            "application/vnd.google.colaboratory.intrinsic+json": {
              "type": "string"
            },
            "text/plain": [
              "'Dựa vào các thông tin đã cung cấp và hình minh họa, động vật dùng chân để săn mồi giống như chim đại bàng là (B) Diều hâu.'"
            ]
          },
          "execution_count": 42,
          "metadata": {},
          "output_type": "execute_result"
        }
      ],
      "source": [
        "answer = get_vision_response(prompt, img_url)\n",
        "answer"
      ]
    }
  ],
  "metadata": {
    "colab": {
      "collapsed_sections": [
        "3NK2Z7fn1u9J"
      ],
      "provenance": []
    },
    "kernelspec": {
      "display_name": "Python 3",
      "name": "python3"
    },
    "language_info": {
      "name": "python"
    }
  },
  "nbformat": 4,
  "nbformat_minor": 0
}
