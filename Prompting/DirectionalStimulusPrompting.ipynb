{
  "cells": [
    {
      "cell_type": "markdown",
      "metadata": {
        "id": "hLivR4aTUMka"
      },
      "source": [
        "# **Set up**"
      ]
    },
    {
      "cell_type": "code",
      "execution_count": 9,
      "metadata": {
        "colab": {
          "base_uri": "https://localhost:8080/"
        },
        "id": "99HmWcqzUKo4",
        "outputId": "ad7b117f-34f1-4a2a-cb13-6b6354990271"
      },
      "outputs": [
        {
          "name": "stdout",
          "output_type": "stream",
          "text": [
            "\u001b[2K     \u001b[90m━━━━━━━━━━━━━━━━━━━━━━━━━━━━━━━━━━━━━━━━\u001b[0m \u001b[32m262.9/262.9 kB\u001b[0m \u001b[31m5.2 MB/s\u001b[0m eta \u001b[36m0:00:00\u001b[0m\n",
            "\u001b[2K     \u001b[90m━━━━━━━━━━━━━━━━━━━━━━━━━━━━━━━━━━━━━━━━\u001b[0m \u001b[32m75.6/75.6 kB\u001b[0m \u001b[31m6.5 MB/s\u001b[0m eta \u001b[36m0:00:00\u001b[0m\n",
            "\u001b[2K     \u001b[90m━━━━━━━━━━━━━━━━━━━━━━━━━━━━━━━━━━━━━━━━\u001b[0m \u001b[32m77.8/77.8 kB\u001b[0m \u001b[31m7.9 MB/s\u001b[0m eta \u001b[36m0:00:00\u001b[0m\n",
            "\u001b[2K     \u001b[90m━━━━━━━━━━━━━━━━━━━━━━━━━━━━━━━━━━━━━━━━\u001b[0m \u001b[32m58.3/58.3 kB\u001b[0m \u001b[31m6.4 MB/s\u001b[0m eta \u001b[36m0:00:00\u001b[0m\n",
            "\u001b[?25h"
          ]
        }
      ],
      "source": [
        "!pip install -q openai"
      ]
    },
    {
      "cell_type": "code",
      "execution_count": 30,
      "metadata": {
        "id": "ElWs7ZhOXsc1"
      },
      "outputs": [],
      "source": [
        "!pip install -q rouge_score"
      ]
    },
    {
      "cell_type": "code",
      "execution_count": 10,
      "metadata": {
        "id": "eVqu2dvlUQ2P"
      },
      "outputs": [],
      "source": [
        "from openai import OpenAI\n",
        "\n",
        "client = OpenAI(\n",
        "  api_key='YOUR_API_KEY',\n",
        ")"
      ]
    },
    {
      "cell_type": "code",
      "execution_count": 11,
      "metadata": {
        "id": "-ANJAwGZUSMO"
      },
      "outputs": [],
      "source": [
        "def get_gpt_response(prompt, max_tokens=200):\n",
        "    response = client.chat.completions.create(\n",
        "        model=\"gpt-3.5-turbo\",\n",
        "        messages=[{\"role\": \"user\", \"content\": prompt}],\n",
        "        # max_tokens=500,\n",
        "        # n=1,\n",
        "        # stop=\"\\n\",  # Set a stop sequence here\n",
        "        # temperature=0.7,\n",
        "    )\n",
        "    return response.choices[0].message.content"
      ]
    },
    {
      "cell_type": "markdown",
      "metadata": {
        "id": "wwjFq2LyXe3d"
      },
      "source": [
        "# **Prompting**"
      ]
    },
    {
      "cell_type": "code",
      "execution_count": 15,
      "metadata": {
        "id": "3M3iV3RcYJnv"
      },
      "outputs": [],
      "source": [
        "input_text = '''\n",
        "Hợp đồng VFF ký với HLV Philippe Troussier có thời hạn hơn ba năm, từ ngày 1-3-2023 đến 31-7-2026.\n",
        "Trong đó, mục tiêu lớn nhất là giúp đội tuyển Việt Nam phấn đấu có vé dự World Cup 2026.\n",
        "\n",
        "Trong năm đầu tiên của hợp đồng, nhiệm vụ đầu tiên của HLV Philippe Troussier là giúp đội tuyển U22 Việt Nam\n",
        "vào đến trận chung kết SEA Games 32 tại Campuchia đã không hoàn thành.\n",
        "\n",
        "Còn năm 2024, chỉ tiêu cho HLV Philippe Troussier là đưa đội tuyển Việt Nam vượt qua vòng loại thứ 2 World Cup 2026 và giành huy chương ở AFF Cup 2024.\n",
        "'''"
      ]
    },
    {
      "cell_type": "code",
      "execution_count": 16,
      "metadata": {
        "colab": {
          "base_uri": "https://localhost:8080/"
        },
        "id": "iWNnFfpRYcFH",
        "outputId": "fbe1c901-efc3-4414-af66-a251d46963e9"
      },
      "outputs": [
        {
          "name": "stdout",
          "output_type": "stream",
          "text": [
            "Hợp đồng VFF ký với HLV Philippe Troussier kéo dài hơn ba năm, nhấn mạnh vào mục tiêu giúp đội tuyển Việt Nam có vé dự World Cup 2026. Nhiệm vụ đầu tiên của HLV là đưa đội U22 vào chung kết SEA Games 32, nhưng không thành công. Trọng tâm năm 2024 là vượt qua vòng loại thứ 2 World Cup 2026 và chiến thắng ở AFF Cup 2024.\n"
          ]
        }
      ],
      "source": [
        "# Standard Prompting\n",
        "prompt = '''\n",
        "Tóm tắt đoặn văn sau trong khoảng 2-3 dòng:\n",
        "{}\n",
        "'''.format(input_text)\n",
        "response1 = get_gpt_response(prompt)\n",
        "print(response1)"
      ]
    },
    {
      "cell_type": "markdown",
      "metadata": {
        "id": "Rne8uFLcY3vl"
      },
      "source": [
        "Hợp đồng VFF ký với HLV Philippe Troussier kéo dài hơn ba năm, nhấn mạnh vào mục tiêu giúp đội tuyển Việt Nam có vé dự World Cup 2026. Nhiệm vụ đầu tiên của HLV là đưa đội U22 vào chung kết SEA Games 32, nhưng không thành công. Trọng tâm năm 2024 là vượt qua vòng loại thứ 2 World Cup 2026 và chiến thắng ở AFF Cup 2024.\n"
      ]
    },
    {
      "cell_type": "code",
      "execution_count": 17,
      "metadata": {
        "colab": {
          "base_uri": "https://localhost:8080/"
        },
        "id": "tbjAsOuKY7lB",
        "outputId": "eb843222-0484-48ca-f010-b8b1769f50f2"
      },
      "outputs": [
        {
          "name": "stdout",
          "output_type": "stream",
          "text": [
            "Hợp đồng giữa VFF và HLV Philippe Troussier kéo dài hơn ba năm, từ 1-3-2023 đến 31-7-2026, với mục tiêu chính là giúp đội tuyển Việt Nam giành vé dự World Cup 2026. Năm đầu tiên, HLV Troussier không thể đưa đội U22 Việt Nam vào chung kết SEA Games 32 tại Campuchia. Năm 2024, chỉ tiêu cho ông là đưa đội tuyển vượt qua vòng loại thứ 2 World Cup 2026 và đạt huy chương tại AFF Cup 2024.\n"
          ]
        }
      ],
      "source": [
        "# Directional Stimulus Prompting\n",
        "prompt = '''\n",
        "Tóm tắt đoặn văn sau trong khoảng 2-3 dựa trên các gợi ý.\n",
        "{}\n",
        "Gợi ý: \"Hợp đồng\", \"VFF\", \"HLV Philippe Troussier\", \"thời hạn\", \"World Cup 2026\", \"đội tuyển Việt Nam\", \"SEA Games 32\", \"Campuchia\", \"vòng loại thứ 2\", \"AFF Cup 2024\"\n",
        "'''.format(input_text)\n",
        "response2 = get_gpt_response(prompt)\n",
        "print(response2)"
      ]
    },
    {
      "cell_type": "markdown",
      "metadata": {
        "id": "d2HVeViUZZ_D"
      },
      "source": [
        "Hợp đồng giữa VFF và HLV Philippe Troussier kéo dài hơn ba năm, từ 1-3-2023 đến 31-7-2026, với mục tiêu chính là giúp đội tuyển Việt Nam giành vé dự World Cup 2026. Năm đầu tiên, HLV Troussier không thể đưa đội U22 Việt Nam vào chung kết SEA Games 32 tại Campuchia. Năm 2024, chỉ tiêu cho ông là đưa đội tuyển vượt qua vòng loại thứ 2 World Cup 2026 và đạt huy chương tại AFF Cup 2024.\n"
      ]
    },
    {
      "cell_type": "code",
      "execution_count": 36,
      "metadata": {
        "colab": {
          "base_uri": "https://localhost:8080/"
        },
        "id": "MCxtQbvqXj6m",
        "outputId": "b50d4e20-e4c2-487f-8ce5-1638d505b26a"
      },
      "outputs": [
        {
          "name": "stdout",
          "output_type": "stream",
          "text": [
            "Score(precision=0.6066666666666667, recall=0.91, fmeasure=0.7280000000000001)\n",
            "Score(precision=0.7266666666666667, recall=0.9646017699115044, fmeasure=0.8288973384030419)\n"
          ]
        }
      ],
      "source": [
        "from rouge_score import rouge_scorer\n",
        "\n",
        "# Load metric ROUGE\n",
        "rouge_metric = rouge_scorer.RougeScorer(['rouge1'], use_stemmer=True)\n",
        "\n",
        "\n",
        "# Tính ROUGE-1\n",
        "score1 = rouge_metric.score(response1, input_text)[\"rouge1\"]\n",
        "score2 = rouge_metric.score(response2, input_text)[\"rouge1\"]\n",
        "\n",
        "print(score1)\n",
        "print(score2)"
      ]
    },
    {
      "cell_type": "markdown",
      "metadata": {
        "id": "l6jMqQEyeUfz"
      },
      "source": [
        "Với độ đo ROUGE-1, các giá trị precision, recall và f-measure càng cao thì sự tương đồng giữa các câu càng cao.\n",
        "\n",
        "Do đó response2 khi có các gợi ý có **độ tương đồng** với câu cần summarize **cao hơn** so với response1"
      ]
    },
    {
      "cell_type": "markdown",
      "metadata": {
        "id": "I6KL6cIpe4dN"
      },
      "source": [
        "**Ngoài ra, có thể sử dụng 1 LLM nhỏ hơn và có thể tune được (ví dụ như mô hình T5) để tạo sinh các gợi ý/hướng dẫn**"
      ]
    }
  ],
  "metadata": {
    "colab": {
      "collapsed_sections": [
        "hLivR4aTUMka"
      ],
      "provenance": []
    },
    "kernelspec": {
      "display_name": "Python 3",
      "name": "python3"
    },
    "language_info": {
      "name": "python"
    }
  },
  "nbformat": 4,
  "nbformat_minor": 0
}
